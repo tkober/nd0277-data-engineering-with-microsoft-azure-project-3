{
 "cells": [
  {
   "cell_type": "markdown",
   "metadata": {
    "application/vnd.databricks.v1+cell": {
     "cellMetadata": {
      "byteLimit": 2048000,
      "rowLimit": 10000
     },
     "inputWidgets": {},
     "nuid": "6c09cb08-7de5-40af-9ee9-92e938dfedf4",
     "showTitle": false,
     "tableResultSettingsMap": {},
     "title": ""
    }
   },
   "source": [
    "\n",
    "# Extract Raw Data\n",
    "\n",
    "In the first step we extract the raw csv data from DBFS and also provide a schema, so that the datatypes are represented correctly."
   ]
  },
  {
   "cell_type": "code",
   "execution_count": 0,
   "metadata": {
    "application/vnd.databricks.v1+cell": {
     "cellMetadata": {
      "byteLimit": 2048000,
      "implicitDf": true,
      "rowLimit": 10000
     },
     "inputWidgets": {},
     "nuid": "72825093-3cdf-43d7-b749-e91dbbbc1d83",
     "showTitle": false,
     "tableResultSettingsMap": {},
     "title": ""
    }
   },
   "outputs": [
    {
     "output_type": "display_data",
     "data": {
      "text/html": [
       "<style scoped>\n",
       "  .table-result-container {\n",
       "    max-height: 300px;\n",
       "    overflow: auto;\n",
       "  }\n",
       "  table, th, td {\n",
       "    border: 1px solid black;\n",
       "    border-collapse: collapse;\n",
       "  }\n",
       "  th, td {\n",
       "    padding: 5px;\n",
       "  }\n",
       "  th {\n",
       "    text-align: left;\n",
       "  }\n",
       "</style><div class='table-result-container'><table class='table-result'><thead style='background-color: white'><tr><th>rider_id</th><th>first</th><th>last</th><th>address</th><th>birthday</th><th>account_start_date</th><th>account_end_date</th><th>is_member</th></tr></thead><tbody><tr><td>1000</td><td>Diana</td><td>Clark</td><td>1200 Alyssa Squares</td><td>1989-02-13</td><td>2019-04-23</td><td>null</td><td>true</td></tr><tr><td>1001</td><td>Jennifer</td><td>Smith</td><td>397 Diana Ferry</td><td>1976-08-10</td><td>2019-11-01</td><td>2020-09-01</td><td>true</td></tr><tr><td>1002</td><td>Karen</td><td>Smith</td><td>644 Brittany Row Apt. 097</td><td>1998-08-10</td><td>2022-02-04</td><td>null</td><td>true</td></tr><tr><td>1003</td><td>Bryan</td><td>Roberts</td><td>996 Dickerson Turnpike</td><td>1999-03-29</td><td>2019-08-26</td><td>null</td><td>false</td></tr><tr><td>1004</td><td>Jesse</td><td>Middleton</td><td>7009 Nathan Expressway</td><td>1969-04-11</td><td>2019-09-14</td><td>null</td><td>true</td></tr><tr><td>1005</td><td>Christine</td><td>Rodriguez</td><td>224 Washington Mills Apt. 467</td><td>1974-08-27</td><td>2020-03-24</td><td>null</td><td>false</td></tr><tr><td>1006</td><td>Alicia</td><td>Taylor</td><td>1137 Angela Locks</td><td>2004-01-30</td><td>2020-11-27</td><td>2021-12-01</td><td>true</td></tr><tr><td>1007</td><td>Benjamin</td><td>Fernandez</td><td>979 Phillips Ways</td><td>1988-01-11</td><td>2016-12-11</td><td>null</td><td>false</td></tr><tr><td>1008</td><td>John</td><td>Crawford</td><td>7691 Evans Court</td><td>1987-02-21</td><td>2021-03-28</td><td>2021-07-01</td><td>true</td></tr><tr><td>1009</td><td>Victoria</td><td>Ritter</td><td>9922 Jim Crest Apt. 319</td><td>1981-02-07</td><td>2020-06-12</td><td>2021-11-01</td><td>true</td></tr></tbody></table></div>"
      ]
     },
     "metadata": {
      "application/vnd.databricks.v1+output": {
       "addedWidgets": {},
       "aggData": [],
       "aggError": "",
       "aggOverflow": false,
       "aggSchema": [],
       "aggSeriesLimitReached": false,
       "aggType": "",
       "arguments": {},
       "columnCustomDisplayInfos": {},
       "data": [
        [
         1000,
         "Diana",
         "Clark",
         "1200 Alyssa Squares",
         "1989-02-13",
         "2019-04-23",
         null,
         true
        ],
        [
         1001,
         "Jennifer",
         "Smith",
         "397 Diana Ferry",
         "1976-08-10",
         "2019-11-01",
         "2020-09-01",
         true
        ],
        [
         1002,
         "Karen",
         "Smith",
         "644 Brittany Row Apt. 097",
         "1998-08-10",
         "2022-02-04",
         null,
         true
        ],
        [
         1003,
         "Bryan",
         "Roberts",
         "996 Dickerson Turnpike",
         "1999-03-29",
         "2019-08-26",
         null,
         false
        ],
        [
         1004,
         "Jesse",
         "Middleton",
         "7009 Nathan Expressway",
         "1969-04-11",
         "2019-09-14",
         null,
         true
        ],
        [
         1005,
         "Christine",
         "Rodriguez",
         "224 Washington Mills Apt. 467",
         "1974-08-27",
         "2020-03-24",
         null,
         false
        ],
        [
         1006,
         "Alicia",
         "Taylor",
         "1137 Angela Locks",
         "2004-01-30",
         "2020-11-27",
         "2021-12-01",
         true
        ],
        [
         1007,
         "Benjamin",
         "Fernandez",
         "979 Phillips Ways",
         "1988-01-11",
         "2016-12-11",
         null,
         false
        ],
        [
         1008,
         "John",
         "Crawford",
         "7691 Evans Court",
         "1987-02-21",
         "2021-03-28",
         "2021-07-01",
         true
        ],
        [
         1009,
         "Victoria",
         "Ritter",
         "9922 Jim Crest Apt. 319",
         "1981-02-07",
         "2020-06-12",
         "2021-11-01",
         true
        ]
       ],
       "datasetInfos": [],
       "dbfsResultPath": null,
       "isJsonSchema": true,
       "metadata": {},
       "overflow": false,
       "plotOptions": {
        "customPlotOptions": {},
        "displayType": "table",
        "pivotAggregation": null,
        "pivotColumns": null,
        "xColumns": null,
        "yColumns": null
       },
       "removedWidgets": [],
       "schema": [
        {
         "metadata": "{}",
         "name": "rider_id",
         "type": "\"integer\""
        },
        {
         "metadata": "{}",
         "name": "first",
         "type": "\"string\""
        },
        {
         "metadata": "{}",
         "name": "last",
         "type": "\"string\""
        },
        {
         "metadata": "{}",
         "name": "address",
         "type": "\"string\""
        },
        {
         "metadata": "{}",
         "name": "birthday",
         "type": "\"date\""
        },
        {
         "metadata": "{}",
         "name": "account_start_date",
         "type": "\"date\""
        },
        {
         "metadata": "{}",
         "name": "account_end_date",
         "type": "\"date\""
        },
        {
         "metadata": "{}",
         "name": "is_member",
         "type": "\"boolean\""
        }
       ],
       "type": "table"
      }
     },
     "output_type": "display_data"
    }
   ],
   "source": [
    "from pyspark.sql.types import StructType, StructField, IntegerType, StringType, DoubleType, DateType, BooleanType, TimestampType\n",
    "\n",
    "schema = StructType([\n",
    "    StructField(\"rider_id\", IntegerType(), False),\n",
    "    StructField(\"first\", StringType(), True),\n",
    "    StructField(\"last\", StringType(), True),\n",
    "    StructField(\"address\", StringType(), True),\n",
    "    StructField(\"birthday\", DateType(), True),\n",
    "    StructField(\"account_start_date\", DateType(), True),\n",
    "    StructField(\"account_end_date\", DateType(), True),\n",
    "    StructField(\"is_member\", BooleanType(), True)\n",
    "])\n",
    "riders_csv = spark.read.csv(\"/FileStore/raw_data/riders.csv\", schema=schema)\n",
    "display(riders_csv.limit(10))\n"
   ]
  },
  {
   "cell_type": "code",
   "execution_count": 0,
   "metadata": {
    "application/vnd.databricks.v1+cell": {
     "cellMetadata": {
      "byteLimit": 2048000,
      "rowLimit": 10000
     },
     "inputWidgets": {},
     "nuid": "7e52d21b-fdb1-435b-b11d-43ccc2a6caf3",
     "showTitle": false,
     "tableResultSettingsMap": {},
     "title": ""
    }
   },
   "outputs": [
    {
     "output_type": "display_data",
     "data": {
      "text/html": [
       "<style scoped>\n",
       "  .table-result-container {\n",
       "    max-height: 300px;\n",
       "    overflow: auto;\n",
       "  }\n",
       "  table, th, td {\n",
       "    border: 1px solid black;\n",
       "    border-collapse: collapse;\n",
       "  }\n",
       "  th, td {\n",
       "    padding: 5px;\n",
       "  }\n",
       "  th {\n",
       "    text-align: left;\n",
       "  }\n",
       "</style><div class='table-result-container'><table class='table-result'><thead style='background-color: white'><tr><th>payment_id</th><th>date</th><th>amount</th><th>rider_id</th></tr></thead><tbody><tr><td>1</td><td>2019-05-01</td><td>9.0</td><td>1000</td></tr><tr><td>2</td><td>2019-06-01</td><td>9.0</td><td>1000</td></tr><tr><td>3</td><td>2019-07-01</td><td>9.0</td><td>1000</td></tr><tr><td>4</td><td>2019-08-01</td><td>9.0</td><td>1000</td></tr><tr><td>5</td><td>2019-09-01</td><td>9.0</td><td>1000</td></tr><tr><td>6</td><td>2019-10-01</td><td>9.0</td><td>1000</td></tr><tr><td>7</td><td>2019-11-01</td><td>9.0</td><td>1000</td></tr><tr><td>8</td><td>2019-12-01</td><td>9.0</td><td>1000</td></tr><tr><td>9</td><td>2020-01-01</td><td>9.0</td><td>1000</td></tr><tr><td>10</td><td>2020-02-01</td><td>9.0</td><td>1000</td></tr></tbody></table></div>"
      ]
     },
     "metadata": {
      "application/vnd.databricks.v1+output": {
       "addedWidgets": {},
       "aggData": [],
       "aggError": "",
       "aggOverflow": false,
       "aggSchema": [],
       "aggSeriesLimitReached": false,
       "aggType": "",
       "arguments": {},
       "columnCustomDisplayInfos": {},
       "data": [
        [
         1,
         "2019-05-01",
         9.0,
         1000
        ],
        [
         2,
         "2019-06-01",
         9.0,
         1000
        ],
        [
         3,
         "2019-07-01",
         9.0,
         1000
        ],
        [
         4,
         "2019-08-01",
         9.0,
         1000
        ],
        [
         5,
         "2019-09-01",
         9.0,
         1000
        ],
        [
         6,
         "2019-10-01",
         9.0,
         1000
        ],
        [
         7,
         "2019-11-01",
         9.0,
         1000
        ],
        [
         8,
         "2019-12-01",
         9.0,
         1000
        ],
        [
         9,
         "2020-01-01",
         9.0,
         1000
        ],
        [
         10,
         "2020-02-01",
         9.0,
         1000
        ]
       ],
       "datasetInfos": [],
       "dbfsResultPath": null,
       "isJsonSchema": true,
       "metadata": {},
       "overflow": false,
       "plotOptions": {
        "customPlotOptions": {},
        "displayType": "table",
        "pivotAggregation": null,
        "pivotColumns": null,
        "xColumns": null,
        "yColumns": null
       },
       "removedWidgets": [],
       "schema": [
        {
         "metadata": "{}",
         "name": "payment_id",
         "type": "\"integer\""
        },
        {
         "metadata": "{}",
         "name": "date",
         "type": "\"date\""
        },
        {
         "metadata": "{}",
         "name": "amount",
         "type": "\"double\""
        },
        {
         "metadata": "{}",
         "name": "rider_id",
         "type": "\"integer\""
        }
       ],
       "type": "table"
      }
     },
     "output_type": "display_data"
    }
   ],
   "source": [
    "schema = StructType([\n",
    "    StructField(\"payment_id\", IntegerType(), False),\n",
    "    StructField(\"date\", DateType(), True),\n",
    "    StructField(\"amount\", DoubleType(), True),\n",
    "    StructField(\"rider_id\", IntegerType(), True)\n",
    "])\n",
    "payments_csv = spark.read.csv(\"/FileStore/raw_data/payments.csv\", schema=schema)\n",
    "display(payments_csv.limit(10))"
   ]
  },
  {
   "cell_type": "code",
   "execution_count": 0,
   "metadata": {
    "application/vnd.databricks.v1+cell": {
     "cellMetadata": {
      "byteLimit": 2048000,
      "rowLimit": 10000
     },
     "inputWidgets": {},
     "nuid": "6bb8f7e6-199a-4b67-bc45-bb793de5dafa",
     "showTitle": false,
     "tableResultSettingsMap": {},
     "title": ""
    }
   },
   "outputs": [
    {
     "output_type": "display_data",
     "data": {
      "text/html": [
       "<style scoped>\n",
       "  .table-result-container {\n",
       "    max-height: 300px;\n",
       "    overflow: auto;\n",
       "  }\n",
       "  table, th, td {\n",
       "    border: 1px solid black;\n",
       "    border-collapse: collapse;\n",
       "  }\n",
       "  th, td {\n",
       "    padding: 5px;\n",
       "  }\n",
       "  th {\n",
       "    text-align: left;\n",
       "  }\n",
       "</style><div class='table-result-container'><table class='table-result'><thead style='background-color: white'><tr><th>station_id</th><th>name</th><th>latitude</th><th>longitude</th></tr></thead><tbody><tr><td>525</td><td>Glenwood Ave & Touhy Ave</td><td>42.012701</td><td>-87.66605799999999</td></tr><tr><td>KA1503000012</td><td>Clark St & Lake St</td><td>41.88579466666667</td><td>-87.63110066666668</td></tr><tr><td>637</td><td>Wood St & Chicago Ave</td><td>41.895634</td><td>-87.672069</td></tr><tr><td>13216</td><td>State St & 33rd St</td><td>41.8347335</td><td>-87.6258275</td></tr><tr><td>18003</td><td>Fairbanks St & Superior St</td><td>41.89580766666667</td><td>-87.62025316666669</td></tr><tr><td>KP1705001026</td><td>LaSalle Dr & Huron St</td><td>41.894877</td><td>-87.632326</td></tr><tr><td>13253</td><td>Lincoln Ave & Waveland Ave</td><td>41.948797</td><td>-87.675278</td></tr><tr><td>KA1503000044</td><td>Rush St & Hubbard St</td><td>41.890173</td><td>-87.62618499999999</td></tr><tr><td>KA1504000140</td><td>Winchester Ave & Elston Ave</td><td>41.92403733333333</td><td>-87.67641483333334</td></tr><tr><td>TA1305000032</td><td>Clinton St & Madison St</td><td>41.882242</td><td>-87.64106600000001</td></tr></tbody></table></div>"
      ]
     },
     "metadata": {
      "application/vnd.databricks.v1+output": {
       "addedWidgets": {},
       "aggData": [],
       "aggError": "",
       "aggOverflow": false,
       "aggSchema": [],
       "aggSeriesLimitReached": false,
       "aggType": "",
       "arguments": {},
       "columnCustomDisplayInfos": {},
       "data": [
        [
         "525",
         "Glenwood Ave & Touhy Ave",
         42.012701,
         -87.66605799999999
        ],
        [
         "KA1503000012",
         "Clark St & Lake St",
         41.88579466666667,
         -87.63110066666668
        ],
        [
         "637",
         "Wood St & Chicago Ave",
         41.895634,
         -87.672069
        ],
        [
         "13216",
         "State St & 33rd St",
         41.8347335,
         -87.6258275
        ],
        [
         "18003",
         "Fairbanks St & Superior St",
         41.89580766666667,
         -87.62025316666669
        ],
        [
         "KP1705001026",
         "LaSalle Dr & Huron St",
         41.894877,
         -87.632326
        ],
        [
         "13253",
         "Lincoln Ave & Waveland Ave",
         41.948797,
         -87.675278
        ],
        [
         "KA1503000044",
         "Rush St & Hubbard St",
         41.890173,
         -87.62618499999999
        ],
        [
         "KA1504000140",
         "Winchester Ave & Elston Ave",
         41.92403733333333,
         -87.67641483333334
        ],
        [
         "TA1305000032",
         "Clinton St & Madison St",
         41.882242,
         -87.64106600000001
        ]
       ],
       "datasetInfos": [],
       "dbfsResultPath": null,
       "isJsonSchema": true,
       "metadata": {},
       "overflow": false,
       "plotOptions": {
        "customPlotOptions": {},
        "displayType": "table",
        "pivotAggregation": null,
        "pivotColumns": null,
        "xColumns": null,
        "yColumns": null
       },
       "removedWidgets": [],
       "schema": [
        {
         "metadata": "{}",
         "name": "station_id",
         "type": "\"string\""
        },
        {
         "metadata": "{}",
         "name": "name",
         "type": "\"string\""
        },
        {
         "metadata": "{}",
         "name": "latitude",
         "type": "\"double\""
        },
        {
         "metadata": "{}",
         "name": "longitude",
         "type": "\"double\""
        }
       ],
       "type": "table"
      }
     },
     "output_type": "display_data"
    }
   ],
   "source": [
    "schema = StructType([\n",
    "    StructField(\"station_id\", StringType(), False),\n",
    "    StructField(\"name\", StringType(), False),\n",
    "    StructField(\"latitude\", DoubleType(), False),\n",
    "    StructField(\"longitude\", DoubleType(), False)\n",
    "])\n",
    "stations_csv = spark.read.csv(\"/FileStore/raw_data/stations.csv\", schema=schema)\n",
    "display(stations_csv.limit(10))"
   ]
  },
  {
   "cell_type": "code",
   "execution_count": 0,
   "metadata": {
    "application/vnd.databricks.v1+cell": {
     "cellMetadata": {
      "byteLimit": 2048000,
      "rowLimit": 10000
     },
     "inputWidgets": {},
     "nuid": "6ab9d0a9-c321-45d6-83b3-abeb0151587d",
     "showTitle": false,
     "tableResultSettingsMap": {},
     "title": ""
    }
   },
   "outputs": [
    {
     "output_type": "display_data",
     "data": {
      "text/html": [
       "<style scoped>\n",
       "  .table-result-container {\n",
       "    max-height: 300px;\n",
       "    overflow: auto;\n",
       "  }\n",
       "  table, th, td {\n",
       "    border: 1px solid black;\n",
       "    border-collapse: collapse;\n",
       "  }\n",
       "  th, td {\n",
       "    padding: 5px;\n",
       "  }\n",
       "  th {\n",
       "    text-align: left;\n",
       "  }\n",
       "</style><div class='table-result-container'><table class='table-result'><thead style='background-color: white'><tr><th>trip_id</th><th>rideable_type</th><th>start_at</th><th>ended_at</th><th>start_station_id</th><th>end_station_id</th><th>rider_id</th></tr></thead><tbody><tr><td>89E7AA6C29227EFF</td><td>classic_bike</td><td>2021-02-12T16:14:56Z</td><td>2021-02-12T16:21:43Z</td><td>525</td><td>660</td><td>71934</td></tr><tr><td>0FEFDE2603568365</td><td>classic_bike</td><td>2021-02-14T17:52:38Z</td><td>2021-02-14T18:12:09Z</td><td>525</td><td>16806</td><td>47854</td></tr><tr><td>E6159D746B2DBB91</td><td>electric_bike</td><td>2021-02-09T19:10:18Z</td><td>2021-02-09T19:19:10Z</td><td>KA1503000012</td><td>TA1305000029</td><td>70870</td></tr><tr><td>B32D3199F1C2E75B</td><td>classic_bike</td><td>2021-02-02T17:49:41Z</td><td>2021-02-02T17:54:06Z</td><td>637</td><td>TA1305000034</td><td>58974</td></tr><tr><td>83E463F23575F4BF</td><td>electric_bike</td><td>2021-02-23T15:07:23Z</td><td>2021-02-23T15:22:37Z</td><td>13216</td><td>TA1309000055</td><td>39608</td></tr><tr><td>BDAA7E3494E8D545</td><td>electric_bike</td><td>2021-02-24T15:43:33Z</td><td>2021-02-24T15:49:05Z</td><td>18003</td><td>KP1705001026</td><td>36267</td></tr><tr><td>A772742351171257</td><td>classic_bike</td><td>2021-02-01T17:47:42Z</td><td>2021-02-01T17:48:33Z</td><td>KP1705001026</td><td>KP1705001026</td><td>50104</td></tr><tr><td>295476889D9B79F8</td><td>classic_bike</td><td>2021-02-11T18:33:53Z</td><td>2021-02-11T18:35:09Z</td><td>18003</td><td>18003</td><td>19618</td></tr><tr><td>362087194BA4CC9A</td><td>classic_bike</td><td>2021-02-27T15:13:39Z</td><td>2021-02-27T15:36:36Z</td><td>KP1705001026</td><td>KP1705001026</td><td>16732</td></tr><tr><td>21630F715038CCB0</td><td>classic_bike</td><td>2021-02-20T08:59:42Z</td><td>2021-02-20T09:17:04Z</td><td>KP1705001026</td><td>KP1705001026</td><td>57068</td></tr></tbody></table></div>"
      ]
     },
     "metadata": {
      "application/vnd.databricks.v1+output": {
       "addedWidgets": {},
       "aggData": [],
       "aggError": "",
       "aggOverflow": false,
       "aggSchema": [],
       "aggSeriesLimitReached": false,
       "aggType": "",
       "arguments": {},
       "columnCustomDisplayInfos": {},
       "data": [
        [
         "89E7AA6C29227EFF",
         "classic_bike",
         "2021-02-12T16:14:56Z",
         "2021-02-12T16:21:43Z",
         "525",
         "660",
         71934
        ],
        [
         "0FEFDE2603568365",
         "classic_bike",
         "2021-02-14T17:52:38Z",
         "2021-02-14T18:12:09Z",
         "525",
         "16806",
         47854
        ],
        [
         "E6159D746B2DBB91",
         "electric_bike",
         "2021-02-09T19:10:18Z",
         "2021-02-09T19:19:10Z",
         "KA1503000012",
         "TA1305000029",
         70870
        ],
        [
         "B32D3199F1C2E75B",
         "classic_bike",
         "2021-02-02T17:49:41Z",
         "2021-02-02T17:54:06Z",
         "637",
         "TA1305000034",
         58974
        ],
        [
         "83E463F23575F4BF",
         "electric_bike",
         "2021-02-23T15:07:23Z",
         "2021-02-23T15:22:37Z",
         "13216",
         "TA1309000055",
         39608
        ],
        [
         "BDAA7E3494E8D545",
         "electric_bike",
         "2021-02-24T15:43:33Z",
         "2021-02-24T15:49:05Z",
         "18003",
         "KP1705001026",
         36267
        ],
        [
         "A772742351171257",
         "classic_bike",
         "2021-02-01T17:47:42Z",
         "2021-02-01T17:48:33Z",
         "KP1705001026",
         "KP1705001026",
         50104
        ],
        [
         "295476889D9B79F8",
         "classic_bike",
         "2021-02-11T18:33:53Z",
         "2021-02-11T18:35:09Z",
         "18003",
         "18003",
         19618
        ],
        [
         "362087194BA4CC9A",
         "classic_bike",
         "2021-02-27T15:13:39Z",
         "2021-02-27T15:36:36Z",
         "KP1705001026",
         "KP1705001026",
         16732
        ],
        [
         "21630F715038CCB0",
         "classic_bike",
         "2021-02-20T08:59:42Z",
         "2021-02-20T09:17:04Z",
         "KP1705001026",
         "KP1705001026",
         57068
        ]
       ],
       "datasetInfos": [],
       "dbfsResultPath": null,
       "isJsonSchema": true,
       "metadata": {},
       "overflow": false,
       "plotOptions": {
        "customPlotOptions": {},
        "displayType": "table",
        "pivotAggregation": null,
        "pivotColumns": null,
        "xColumns": null,
        "yColumns": null
       },
       "removedWidgets": [],
       "schema": [
        {
         "metadata": "{}",
         "name": "trip_id",
         "type": "\"string\""
        },
        {
         "metadata": "{}",
         "name": "rideable_type",
         "type": "\"string\""
        },
        {
         "metadata": "{}",
         "name": "start_at",
         "type": "\"timestamp\""
        },
        {
         "metadata": "{}",
         "name": "ended_at",
         "type": "\"timestamp\""
        },
        {
         "metadata": "{}",
         "name": "start_station_id",
         "type": "\"string\""
        },
        {
         "metadata": "{}",
         "name": "end_station_id",
         "type": "\"string\""
        },
        {
         "metadata": "{}",
         "name": "rider_id",
         "type": "\"integer\""
        }
       ],
       "type": "table"
      }
     },
     "output_type": "display_data"
    }
   ],
   "source": [
    "schema = StructType([\n",
    "    StructField(\"trip_id\", StringType(), False),\n",
    "    StructField(\"rideable_type\", StringType(), True),\n",
    "    StructField(\"start_at\", TimestampType(), True),\n",
    "    StructField(\"ended_at\", TimestampType(), True),\n",
    "    StructField(\"start_station_id\", StringType(), True),\n",
    "    StructField(\"end_station_id\", StringType(), True),\n",
    "    StructField(\"rider_id\", IntegerType(), True)\n",
    "])\n",
    "trips_csv = spark.read.csv(\"/FileStore/raw_data/trips.csv\", schema=schema)\n",
    "display(trips_csv.limit(10))"
   ]
  },
  {
   "cell_type": "markdown",
   "metadata": {
    "application/vnd.databricks.v1+cell": {
     "cellMetadata": {
      "byteLimit": 2048000,
      "rowLimit": 10000
     },
     "inputWidgets": {},
     "nuid": "ecc7c67c-8199-45ee-9d0f-b1482a0d941c",
     "showTitle": false,
     "tableResultSettingsMap": {},
     "title": ""
    }
   },
   "source": [
    "\n",
    "#### Creating Bronze Data Stores in Delta Lake"
   ]
  },
  {
   "cell_type": "code",
   "execution_count": 0,
   "metadata": {
    "application/vnd.databricks.v1+cell": {
     "cellMetadata": {
      "byteLimit": 2048000,
      "rowLimit": 10000
     },
     "inputWidgets": {},
     "nuid": "1a3e0277-523d-4930-b5b9-185b4945229e",
     "showTitle": false,
     "tableResultSettingsMap": {},
     "title": ""
    }
   },
   "outputs": [],
   "source": [
    "trips_csv.write.mode(\"overwrite\").format(\"delta\").save(\"/FileStore/delta/bronze_trips\")\n",
    "payments_csv.write.mode(\"overwrite\").format(\"delta\").save(\"/FileStore/delta/bronze_payments\")\n",
    "stations_csv.write.mode(\"overwrite\").format(\"delta\").save(\"/FileStore/delta/bronze_stations\")\n",
    "riders_csv.write.mode(\"overwrite\").format(\"delta\").save(\"/FileStore/delta/bronze_riders\")"
   ]
  },
  {
   "cell_type": "markdown",
   "metadata": {
    "application/vnd.databricks.v1+cell": {
     "cellMetadata": {
      "byteLimit": 2048000,
      "rowLimit": 10000
     },
     "inputWidgets": {},
     "nuid": "7b1067ec-e377-45af-ba1d-b459514ea3b8",
     "showTitle": false,
     "tableResultSettingsMap": {},
     "title": ""
    }
   },
   "source": [
    "\n",
    "# Load Bronze Data from Delta Lake\n",
    "\n",
    "Next the data will be loaded as bronze layer data."
   ]
  },
  {
   "cell_type": "code",
   "execution_count": 0,
   "metadata": {
    "application/vnd.databricks.v1+cell": {
     "cellMetadata": {
      "byteLimit": 2048000,
      "rowLimit": 10000
     },
     "inputWidgets": {},
     "nuid": "f3db5577-27d6-46a0-855d-c43c2c3de289",
     "showTitle": false,
     "tableResultSettingsMap": {},
     "title": ""
    }
   },
   "outputs": [
    {
     "output_type": "execute_result",
     "data": {
      "text/plain": [
       "DataFrame[]"
      ]
     },
     "execution_count": 34,
     "metadata": {},
     "output_type": "execute_result"
    }
   ],
   "source": [
    "spark.sql(\"DROP TABLE IF EXISTS Bronze_Trips\")\n",
    "spark.sql(\"DROP TABLE IF EXISTS Bronze_Payments\")\n",
    "spark.sql(\"DROP TABLE IF EXISTS Bronze_Stations\")\n",
    "spark.sql(\"DROP TABLE IF EXISTS Bronze_Riders\")\n",
    "\n",
    "spark.sql(\"CREATE TABLE Bronze_Trips USING DELTA LOCATION '/FileStore/delta/bronze_trips'\")\n",
    "spark.sql(\"CREATE TABLE Bronze_Payments USING DELTA LOCATION '/FileStore/delta/bronze_payments'\")\n",
    "spark.sql(\"CREATE TABLE Bronze_Stations USING DELTA LOCATION '/FileStore/delta/bronze_stations'\")\n",
    "spark.sql(\"CREATE TABLE Bronze_Riders USING DELTA LOCATION '/FileStore/delta/bronze_riders'\")\n"
   ]
  },
  {
   "cell_type": "markdown",
   "metadata": {
    "application/vnd.databricks.v1+cell": {
     "cellMetadata": {
      "byteLimit": 2048000,
      "rowLimit": 10000
     },
     "inputWidgets": {},
     "nuid": "00499003-df1f-4b36-a1ee-2b39d6b2f58a",
     "showTitle": false,
     "tableResultSettingsMap": {},
     "title": ""
    }
   },
   "source": [
    "\n",
    "# Transform Bronze Data into Gold Data as Star Schema\n",
    "\n",
    "Subsequently the bronze data are being transformed into gold layer data by denormalzing it and reorganizing it as a star schema."
   ]
  },
  {
   "cell_type": "markdown",
   "metadata": {
    "application/vnd.databricks.v1+cell": {
     "cellMetadata": {
      "byteLimit": 2048000,
      "rowLimit": 10000
     },
     "inputWidgets": {},
     "nuid": "cef2336f-5f44-4222-85eb-51c6d9b14ea2",
     "showTitle": false,
     "tableResultSettingsMap": {},
     "title": ""
    }
   },
   "source": [
    " \n",
    "### Dimension: Station"
   ]
  },
  {
   "cell_type": "code",
   "execution_count": 0,
   "metadata": {
    "application/vnd.databricks.v1+cell": {
     "cellMetadata": {
      "byteLimit": 2048000,
      "rowLimit": 10000
     },
     "inputWidgets": {},
     "nuid": "1b60b719-7ed6-4851-a056-cb21f2507993",
     "showTitle": false,
     "tableResultSettingsMap": {},
     "title": ""
    }
   },
   "outputs": [
    {
     "output_type": "stream",
     "name": "stdout",
     "output_type": "stream",
     "text": [
      "Overwriting sql/dim_station.sql\n"
     ]
    }
   ],
   "source": [
    "%%file sql/dim_station.sql\n",
    "\n",
    "SELECT \n",
    "    station_id,\n",
    "    name,\n",
    "    latitude,\n",
    "    longitude\n",
    "FROM Bronze_Stations "
   ]
  },
  {
   "cell_type": "code",
   "execution_count": 0,
   "metadata": {
    "application/vnd.databricks.v1+cell": {
     "cellMetadata": {
      "byteLimit": 2048000,
      "rowLimit": 10000
     },
     "inputWidgets": {},
     "nuid": "290c03d8-f7bc-49d9-b4e5-4bb189e2d65a",
     "showTitle": false,
     "tableResultSettingsMap": {},
     "title": ""
    }
   },
   "outputs": [
    {
     "output_type": "display_data",
     "data": {
      "text/html": [
       "<style scoped>\n",
       "  .table-result-container {\n",
       "    max-height: 300px;\n",
       "    overflow: auto;\n",
       "  }\n",
       "  table, th, td {\n",
       "    border: 1px solid black;\n",
       "    border-collapse: collapse;\n",
       "  }\n",
       "  th, td {\n",
       "    padding: 5px;\n",
       "  }\n",
       "  th {\n",
       "    text-align: left;\n",
       "  }\n",
       "</style><div class='table-result-container'><table class='table-result'><thead style='background-color: white'><tr><th>station_id</th><th>name</th><th>latitude</th><th>longitude</th></tr></thead><tbody><tr><td>525</td><td>Glenwood Ave & Touhy Ave</td><td>42.012701</td><td>-87.66605799999999</td></tr><tr><td>KA1503000012</td><td>Clark St & Lake St</td><td>41.88579466666667</td><td>-87.63110066666668</td></tr><tr><td>637</td><td>Wood St & Chicago Ave</td><td>41.895634</td><td>-87.672069</td></tr><tr><td>13216</td><td>State St & 33rd St</td><td>41.8347335</td><td>-87.6258275</td></tr><tr><td>18003</td><td>Fairbanks St & Superior St</td><td>41.89580766666667</td><td>-87.62025316666669</td></tr><tr><td>KP1705001026</td><td>LaSalle Dr & Huron St</td><td>41.894877</td><td>-87.632326</td></tr><tr><td>13253</td><td>Lincoln Ave & Waveland Ave</td><td>41.948797</td><td>-87.675278</td></tr><tr><td>KA1503000044</td><td>Rush St & Hubbard St</td><td>41.890173</td><td>-87.62618499999999</td></tr><tr><td>KA1504000140</td><td>Winchester Ave & Elston Ave</td><td>41.92403733333333</td><td>-87.67641483333334</td></tr><tr><td>TA1305000032</td><td>Clinton St & Madison St</td><td>41.882242</td><td>-87.64106600000001</td></tr></tbody></table></div>"
      ]
     },
     "metadata": {
      "application/vnd.databricks.v1+output": {
       "addedWidgets": {},
       "aggData": [],
       "aggError": "",
       "aggOverflow": false,
       "aggSchema": [],
       "aggSeriesLimitReached": false,
       "aggType": "",
       "arguments": {},
       "columnCustomDisplayInfos": {},
       "data": [
        [
         "525",
         "Glenwood Ave & Touhy Ave",
         42.012701,
         -87.66605799999999
        ],
        [
         "KA1503000012",
         "Clark St & Lake St",
         41.88579466666667,
         -87.63110066666668
        ],
        [
         "637",
         "Wood St & Chicago Ave",
         41.895634,
         -87.672069
        ],
        [
         "13216",
         "State St & 33rd St",
         41.8347335,
         -87.6258275
        ],
        [
         "18003",
         "Fairbanks St & Superior St",
         41.89580766666667,
         -87.62025316666669
        ],
        [
         "KP1705001026",
         "LaSalle Dr & Huron St",
         41.894877,
         -87.632326
        ],
        [
         "13253",
         "Lincoln Ave & Waveland Ave",
         41.948797,
         -87.675278
        ],
        [
         "KA1503000044",
         "Rush St & Hubbard St",
         41.890173,
         -87.62618499999999
        ],
        [
         "KA1504000140",
         "Winchester Ave & Elston Ave",
         41.92403733333333,
         -87.67641483333334
        ],
        [
         "TA1305000032",
         "Clinton St & Madison St",
         41.882242,
         -87.64106600000001
        ]
       ],
       "datasetInfos": [],
       "dbfsResultPath": null,
       "isJsonSchema": true,
       "metadata": {},
       "overflow": false,
       "plotOptions": {
        "customPlotOptions": {},
        "displayType": "table",
        "pivotAggregation": null,
        "pivotColumns": null,
        "xColumns": null,
        "yColumns": null
       },
       "removedWidgets": [],
       "schema": [
        {
         "metadata": "{}",
         "name": "station_id",
         "type": "\"string\""
        },
        {
         "metadata": "{}",
         "name": "name",
         "type": "\"string\""
        },
        {
         "metadata": "{}",
         "name": "latitude",
         "type": "\"double\""
        },
        {
         "metadata": "{}",
         "name": "longitude",
         "type": "\"double\""
        }
       ],
       "type": "table"
      }
     },
     "output_type": "display_data"
    }
   ],
   "source": [
    "with open('sql/dim_station.sql', 'r') as f:\n",
    "    gold_dim_station = spark.sql(f.read())\n",
    "\n",
    "display(gold_dim_station.limit(10))"
   ]
  },
  {
   "cell_type": "markdown",
   "metadata": {
    "application/vnd.databricks.v1+cell": {
     "cellMetadata": {
      "byteLimit": 2048000,
      "rowLimit": 10000
     },
     "inputWidgets": {},
     "nuid": "184a4155-81df-4079-a45a-392186dbfd8f",
     "showTitle": false,
     "tableResultSettingsMap": {},
     "title": ""
    }
   },
   "source": [
    "\n",
    "### Dimension Rider"
   ]
  },
  {
   "cell_type": "code",
   "execution_count": 0,
   "metadata": {
    "application/vnd.databricks.v1+cell": {
     "cellMetadata": {
      "byteLimit": 2048000,
      "rowLimit": 10000
     },
     "inputWidgets": {},
     "nuid": "c2ab8f1e-e335-4d95-9d05-e877806e280b",
     "showTitle": false,
     "tableResultSettingsMap": {},
     "title": ""
    }
   },
   "outputs": [
    {
     "output_type": "stream",
     "name": "stdout",
     "output_type": "stream",
     "text": [
      "Overwriting sql/dim_rider.sql\n"
     ]
    }
   ],
   "source": [
    "%%file sql/dim_rider.sql\n",
    "\n",
    "SELECT \n",
    "    rider_id, \n",
    "    address,\n",
    "    first as first_name,\n",
    "    last as last_name,\n",
    "    birthday,\n",
    "    is_member,\n",
    "    account_start_date,\n",
    "    account_end_date\n",
    "FROM Bronze_Riders "
   ]
  },
  {
   "cell_type": "code",
   "execution_count": 0,
   "metadata": {
    "application/vnd.databricks.v1+cell": {
     "cellMetadata": {
      "byteLimit": 2048000,
      "rowLimit": 10000
     },
     "inputWidgets": {},
     "nuid": "31b31817-ad15-4479-af70-b3ffcc861272",
     "showTitle": false,
     "tableResultSettingsMap": {},
     "title": ""
    }
   },
   "outputs": [
    {
     "output_type": "display_data",
     "data": {
      "text/html": [
       "<style scoped>\n",
       "  .table-result-container {\n",
       "    max-height: 300px;\n",
       "    overflow: auto;\n",
       "  }\n",
       "  table, th, td {\n",
       "    border: 1px solid black;\n",
       "    border-collapse: collapse;\n",
       "  }\n",
       "  th, td {\n",
       "    padding: 5px;\n",
       "  }\n",
       "  th {\n",
       "    text-align: left;\n",
       "  }\n",
       "</style><div class='table-result-container'><table class='table-result'><thead style='background-color: white'><tr><th>rider_id</th><th>address</th><th>first_name</th><th>last_name</th><th>birthday</th><th>is_member</th><th>account_start_date</th><th>account_end_date</th></tr></thead><tbody><tr><td>57257</td><td>9928 Hunter Ranch</td><td>Mark</td><td>Mcfarland</td><td>1982-02-01</td><td>false</td><td>2020-12-05</td><td>null</td></tr><tr><td>57258</td><td>20036 Barrett Summit Apt. 714</td><td>Mark</td><td>Davis</td><td>1963-07-28</td><td>true</td><td>2017-07-12</td><td>null</td></tr><tr><td>57259</td><td>089 Sarah Square</td><td>Bryan</td><td>Manning</td><td>1984-11-05</td><td>true</td><td>2018-08-10</td><td>null</td></tr><tr><td>57260</td><td>3157 Nicole Ferry Apt. 826</td><td>Michele</td><td>Rowe</td><td>1997-09-21</td><td>true</td><td>2016-06-03</td><td>null</td></tr><tr><td>57261</td><td>312 Jessica Wells</td><td>John</td><td>Mckenzie</td><td>2002-10-13</td><td>true</td><td>2016-02-01</td><td>2018-07-01</td></tr><tr><td>57262</td><td>910 Lopez Pass Apt. 426</td><td>Tami</td><td>Rivera</td><td>2001-06-29</td><td>true</td><td>2020-11-12</td><td>null</td></tr><tr><td>57263</td><td>411 Mccoy Haven</td><td>Joseph</td><td>Hodge</td><td>1993-04-30</td><td>false</td><td>2020-05-29</td><td>null</td></tr><tr><td>57264</td><td>667 Rodriguez Ramp</td><td>Lauren</td><td>Brown</td><td>2002-10-20</td><td>false</td><td>2020-05-10</td><td>null</td></tr><tr><td>57265</td><td>90789 Fowler Circle</td><td>Stephanie</td><td>Reed</td><td>1993-03-20</td><td>true</td><td>2018-09-05</td><td>2019-09-01</td></tr><tr><td>57266</td><td>55635 Valerie Falls</td><td>Brittney</td><td>Lamb</td><td>1993-12-09</td><td>true</td><td>2020-10-10</td><td>null</td></tr></tbody></table></div>"
      ]
     },
     "metadata": {
      "application/vnd.databricks.v1+output": {
       "addedWidgets": {},
       "aggData": [],
       "aggError": "",
       "aggOverflow": false,
       "aggSchema": [],
       "aggSeriesLimitReached": false,
       "aggType": "",
       "arguments": {},
       "columnCustomDisplayInfos": {},
       "data": [
        [
         57257,
         "9928 Hunter Ranch",
         "Mark",
         "Mcfarland",
         "1982-02-01",
         false,
         "2020-12-05",
         null
        ],
        [
         57258,
         "20036 Barrett Summit Apt. 714",
         "Mark",
         "Davis",
         "1963-07-28",
         true,
         "2017-07-12",
         null
        ],
        [
         57259,
         "089 Sarah Square",
         "Bryan",
         "Manning",
         "1984-11-05",
         true,
         "2018-08-10",
         null
        ],
        [
         57260,
         "3157 Nicole Ferry Apt. 826",
         "Michele",
         "Rowe",
         "1997-09-21",
         true,
         "2016-06-03",
         null
        ],
        [
         57261,
         "312 Jessica Wells",
         "John",
         "Mckenzie",
         "2002-10-13",
         true,
         "2016-02-01",
         "2018-07-01"
        ],
        [
         57262,
         "910 Lopez Pass Apt. 426",
         "Tami",
         "Rivera",
         "2001-06-29",
         true,
         "2020-11-12",
         null
        ],
        [
         57263,
         "411 Mccoy Haven",
         "Joseph",
         "Hodge",
         "1993-04-30",
         false,
         "2020-05-29",
         null
        ],
        [
         57264,
         "667 Rodriguez Ramp",
         "Lauren",
         "Brown",
         "2002-10-20",
         false,
         "2020-05-10",
         null
        ],
        [
         57265,
         "90789 Fowler Circle",
         "Stephanie",
         "Reed",
         "1993-03-20",
         true,
         "2018-09-05",
         "2019-09-01"
        ],
        [
         57266,
         "55635 Valerie Falls",
         "Brittney",
         "Lamb",
         "1993-12-09",
         true,
         "2020-10-10",
         null
        ]
       ],
       "datasetInfos": [],
       "dbfsResultPath": null,
       "isJsonSchema": true,
       "metadata": {},
       "overflow": false,
       "plotOptions": {
        "customPlotOptions": {},
        "displayType": "table",
        "pivotAggregation": null,
        "pivotColumns": null,
        "xColumns": null,
        "yColumns": null
       },
       "removedWidgets": [],
       "schema": [
        {
         "metadata": "{}",
         "name": "rider_id",
         "type": "\"integer\""
        },
        {
         "metadata": "{}",
         "name": "address",
         "type": "\"string\""
        },
        {
         "metadata": "{}",
         "name": "first_name",
         "type": "\"string\""
        },
        {
         "metadata": "{}",
         "name": "last_name",
         "type": "\"string\""
        },
        {
         "metadata": "{}",
         "name": "birthday",
         "type": "\"date\""
        },
        {
         "metadata": "{}",
         "name": "is_member",
         "type": "\"boolean\""
        },
        {
         "metadata": "{}",
         "name": "account_start_date",
         "type": "\"date\""
        },
        {
         "metadata": "{}",
         "name": "account_end_date",
         "type": "\"date\""
        }
       ],
       "type": "table"
      }
     },
     "output_type": "display_data"
    }
   ],
   "source": [
    "with open('sql/dim_rider.sql', 'r') as f:\n",
    "    gold_dim_rider = spark.sql(f.read())\n",
    "\n",
    "display(gold_dim_rider.limit(10))"
   ]
  },
  {
   "cell_type": "markdown",
   "metadata": {
    "application/vnd.databricks.v1+cell": {
     "cellMetadata": {
      "byteLimit": 2048000,
      "rowLimit": 10000
     },
     "inputWidgets": {},
     "nuid": "3ee1b6a5-dc6b-4e75-80f9-94b837ec6aba",
     "showTitle": false,
     "tableResultSettingsMap": {},
     "title": ""
    }
   },
   "source": [
    "\n",
    "### Dimension Time"
   ]
  },
  {
   "cell_type": "code",
   "execution_count": 0,
   "metadata": {
    "application/vnd.databricks.v1+cell": {
     "cellMetadata": {
      "byteLimit": 2048000,
      "rowLimit": 10000
     },
     "inputWidgets": {},
     "nuid": "260a42e5-91b9-4c7d-ab65-d25431782a83",
     "showTitle": false,
     "tableResultSettingsMap": {},
     "title": ""
    }
   },
   "outputs": [
    {
     "output_type": "stream",
     "name": "stdout",
     "output_type": "stream",
     "text": [
      "Overwriting sql/dim_time.sql\n"
     ]
    }
   ],
   "source": [
    "%%file sql/dim_time.sql\n",
    "\n",
    "SELECT DISTINCT\n",
    "    date_format(a_timestamp, 'HHmmss') as time_string,\n",
    "    CAST(a_timestamp AS timestamp) as time,\n",
    "    hour(a_timestamp) as hour,\n",
    "    minute(a_timestamp) as minute,\n",
    "    second(a_timestamp) as second\n",
    "FROM (\n",
    "    SELECT start_at as a_timestamp FROM Bronze_Trips\n",
    "    UNION ALL\n",
    "    SELECT ended_at as a_timestamp FROM Bronze_Trips\n",
    ") tmp"
   ]
  },
  {
   "cell_type": "code",
   "execution_count": 0,
   "metadata": {
    "application/vnd.databricks.v1+cell": {
     "cellMetadata": {
      "byteLimit": 2048000,
      "rowLimit": 10000
     },
     "inputWidgets": {},
     "nuid": "3bfc44ed-9c87-4917-9218-39d069b14898",
     "showTitle": false,
     "tableResultSettingsMap": {},
     "title": ""
    }
   },
   "outputs": [
    {
     "output_type": "display_data",
     "data": {
      "text/html": [
       "<style scoped>\n",
       "  .table-result-container {\n",
       "    max-height: 300px;\n",
       "    overflow: auto;\n",
       "  }\n",
       "  table, th, td {\n",
       "    border: 1px solid black;\n",
       "    border-collapse: collapse;\n",
       "  }\n",
       "  th, td {\n",
       "    padding: 5px;\n",
       "  }\n",
       "  th {\n",
       "    text-align: left;\n",
       "  }\n",
       "</style><div class='table-result-container'><table class='table-result'><thead style='background-color: white'><tr><th>time_string</th><th>time</th><th>hour</th><th>minute</th><th>second</th></tr></thead><tbody><tr><td>151519</td><td>2021-08-22T15:15:19Z</td><td>15</td><td>15</td><td>19</td></tr><tr><td>222851</td><td>2021-08-26T22:28:51Z</td><td>22</td><td>28</td><td>51</td></tr><tr><td>173420</td><td>2021-08-23T17:34:20Z</td><td>17</td><td>34</td><td>20</td></tr><tr><td>131207</td><td>2021-08-28T13:12:07Z</td><td>13</td><td>12</td><td>7</td></tr><tr><td>154510</td><td>2021-08-06T15:45:10Z</td><td>15</td><td>45</td><td>10</td></tr><tr><td>000126</td><td>2021-08-22T00:01:26Z</td><td>0</td><td>1</td><td>26</td></tr><tr><td>160853</td><td>2021-08-23T16:08:53Z</td><td>16</td><td>8</td><td>53</td></tr><tr><td>221327</td><td>2021-08-09T22:13:27Z</td><td>22</td><td>13</td><td>27</td></tr><tr><td>205051</td><td>2021-08-18T20:50:51Z</td><td>20</td><td>50</td><td>51</td></tr><tr><td>184756</td><td>2021-08-02T18:47:56Z</td><td>18</td><td>47</td><td>56</td></tr></tbody></table></div>"
      ]
     },
     "metadata": {
      "application/vnd.databricks.v1+output": {
       "addedWidgets": {},
       "aggData": [],
       "aggError": "",
       "aggOverflow": false,
       "aggSchema": [],
       "aggSeriesLimitReached": false,
       "aggType": "",
       "arguments": {},
       "columnCustomDisplayInfos": {},
       "data": [
        [
         "151519",
         "2021-08-22T15:15:19Z",
         15,
         15,
         19
        ],
        [
         "222851",
         "2021-08-26T22:28:51Z",
         22,
         28,
         51
        ],
        [
         "173420",
         "2021-08-23T17:34:20Z",
         17,
         34,
         20
        ],
        [
         "131207",
         "2021-08-28T13:12:07Z",
         13,
         12,
         7
        ],
        [
         "154510",
         "2021-08-06T15:45:10Z",
         15,
         45,
         10
        ],
        [
         "000126",
         "2021-08-22T00:01:26Z",
         0,
         1,
         26
        ],
        [
         "160853",
         "2021-08-23T16:08:53Z",
         16,
         8,
         53
        ],
        [
         "221327",
         "2021-08-09T22:13:27Z",
         22,
         13,
         27
        ],
        [
         "205051",
         "2021-08-18T20:50:51Z",
         20,
         50,
         51
        ],
        [
         "184756",
         "2021-08-02T18:47:56Z",
         18,
         47,
         56
        ]
       ],
       "datasetInfos": [],
       "dbfsResultPath": null,
       "isJsonSchema": true,
       "metadata": {},
       "overflow": false,
       "plotOptions": {
        "customPlotOptions": {},
        "displayType": "table",
        "pivotAggregation": null,
        "pivotColumns": null,
        "xColumns": null,
        "yColumns": null
       },
       "removedWidgets": [],
       "schema": [
        {
         "metadata": "{}",
         "name": "time_string",
         "type": "\"string\""
        },
        {
         "metadata": "{}",
         "name": "time",
         "type": "\"timestamp\""
        },
        {
         "metadata": "{}",
         "name": "hour",
         "type": "\"integer\""
        },
        {
         "metadata": "{}",
         "name": "minute",
         "type": "\"integer\""
        },
        {
         "metadata": "{}",
         "name": "second",
         "type": "\"integer\""
        }
       ],
       "type": "table"
      }
     },
     "output_type": "display_data"
    }
   ],
   "source": [
    "with open('sql/dim_time.sql', 'r') as f:\n",
    "    gold_dim_time = spark.sql(f.read())\n",
    "\n",
    "display(gold_dim_time.limit(10))"
   ]
  },
  {
   "cell_type": "markdown",
   "metadata": {
    "application/vnd.databricks.v1+cell": {
     "cellMetadata": {
      "byteLimit": 2048000,
      "rowLimit": 10000
     },
     "inputWidgets": {},
     "nuid": "3ff90248-e4a7-4132-873f-699471da65f5",
     "showTitle": false,
     "tableResultSettingsMap": {},
     "title": ""
    }
   },
   "source": [
    "### Dimension Date"
   ]
  },
  {
   "cell_type": "markdown",
   "metadata": {
    "application/vnd.databricks.v1+cell": {
     "cellMetadata": {
      "byteLimit": 2048000,
      "rowLimit": 10000
     },
     "inputWidgets": {},
     "nuid": "6cee7f20-9dce-40cf-8555-dc8af911f60f",
     "showTitle": false,
     "tableResultSettingsMap": {},
     "title": ""
    }
   },
   "source": [
    "As Spark SQL does not support any native function to get the last day of a quarter we need to write our own *User Defined Function* (**UDF**) for that."
   ]
  },
  {
   "cell_type": "code",
   "execution_count": 0,
   "metadata": {
    "application/vnd.databricks.v1+cell": {
     "cellMetadata": {
      "byteLimit": 2048000,
      "rowLimit": 10000
     },
     "inputWidgets": {},
     "nuid": "8dc296ab-c0ff-4c2f-8235-4fdcab676810",
     "showTitle": false,
     "tableResultSettingsMap": {},
     "title": ""
    }
   },
   "outputs": [
    {
     "output_type": "execute_result",
     "data": {
      "text/plain": [
       "<function __main__.last_day_of_quarter(dt)>"
      ]
     },
     "execution_count": 41,
     "metadata": {},
     "output_type": "execute_result"
    }
   ],
   "source": [
    "from pyspark.sql import functions as F\n",
    "from pyspark.sql.types import DateType\n",
    "import datetime\n",
    "\n",
    "def last_day_of_quarter(dt):\n",
    "    if dt is None:\n",
    "        return None\n",
    "    q_month = ((dt.month - 1) // 3 + 1) * 3\n",
    "    if q_month == 12:\n",
    "        return datetime.date(dt.year, 12, 31)\n",
    "    next_month_first = datetime.date(dt.year, q_month + 1, 1)\n",
    "    return next_month_first - datetime.timedelta(days=1)\n",
    "\n",
    "spark.udf.register(\"last_day_of_quarter_udf\", last_day_of_quarter, DateType())"
   ]
  },
  {
   "cell_type": "code",
   "execution_count": 0,
   "metadata": {
    "application/vnd.databricks.v1+cell": {
     "cellMetadata": {
      "byteLimit": 2048000,
      "rowLimit": 10000
     },
     "inputWidgets": {},
     "nuid": "7e0a8dc4-5670-4200-87f5-f3f9591b2767",
     "showTitle": false,
     "tableResultSettingsMap": {},
     "title": ""
    }
   },
   "outputs": [
    {
     "output_type": "stream",
     "name": "stdout",
     "output_type": "stream",
     "text": [
      "Overwriting sql/dim_date.sql\n"
     ]
    }
   ],
   "source": [
    "%%file sql/dim_date.sql\n",
    "\n",
    "SELECT DISTINCT\n",
    "    date_format(a_date, 'yyyyMMdd') AS date_string,\n",
    "    CAST(a_date AS date) AS date,\n",
    "    year(a_date) AS year,\n",
    "    quarter(a_date) AS quarter,\n",
    "    month(a_date) AS month,\n",
    "    weekofyear(a_date) AS week,\n",
    "    day(a_date) AS day,\n",
    "    dayofweek(a_date) AS weekday,\n",
    "    date_format(a_date, 'EEEE') AS weekday_name,\n",
    "    date_format(a_date, 'MMMM') AS month_name,\n",
    "    trunc(a_date, 'YEAR') AS first_of_year,\n",
    "    date_add(trunc(a_date, 'YEAR'), CASE \n",
    "        WHEN ((year(a_date) % 4 = 0 AND year(a_date) % 100 <> 0) OR year(a_date) % 400 = 0) THEN 366\n",
    "        ELSE 365\n",
    "    END - 1) AS last_of_year,\n",
    "    trunc(a_date, 'QUARTER') AS first_of_quarter,\n",
    "    last_day_of_quarter_udf(a_date) AS last_of_quarter,\n",
    "    trunc(a_date, 'MONTH') AS first_of_month,\n",
    "    last_day(a_date) AS last_of_month,\n",
    "    ((year(a_date) % 4 = 0 AND year(a_date) % 100 <> 0) OR year(a_date) % 400 = 0) AS is_leap_year,\n",
    "    (dayofweek(a_date) IN (1,7)) AS is_weekend\n",
    "FROM (\n",
    "    SELECT start_at AS a_date FROM Bronze_Trips\n",
    "    UNION ALL\n",
    "    SELECT ended_at AS a_date FROM Bronze_Trips\n",
    "    UNION ALL\n",
    "    SELECT date AS a_date FROM Bronze_Payments\n",
    ") tmp"
   ]
  },
  {
   "cell_type": "code",
   "execution_count": 0,
   "metadata": {
    "application/vnd.databricks.v1+cell": {
     "cellMetadata": {
      "byteLimit": 2048000,
      "rowLimit": 10000
     },
     "inputWidgets": {},
     "nuid": "09a6aeb8-a8fa-47d3-a4e5-ccaf535752f8",
     "showTitle": false,
     "tableResultSettingsMap": {},
     "title": ""
    }
   },
   "outputs": [
    {
     "output_type": "display_data",
     "data": {
      "text/html": [
       "<style scoped>\n",
       "  .table-result-container {\n",
       "    max-height: 300px;\n",
       "    overflow: auto;\n",
       "  }\n",
       "  table, th, td {\n",
       "    border: 1px solid black;\n",
       "    border-collapse: collapse;\n",
       "  }\n",
       "  th, td {\n",
       "    padding: 5px;\n",
       "  }\n",
       "  th {\n",
       "    text-align: left;\n",
       "  }\n",
       "</style><div class='table-result-container'><table class='table-result'><thead style='background-color: white'><tr><th>date_string</th><th>date</th><th>year</th><th>quarter</th><th>month</th><th>week</th><th>day</th><th>weekday</th><th>weekday_name</th><th>month_name</th><th>first_of_year</th><th>last_of_year</th><th>first_of_quarter</th><th>last_of_quarter</th><th>first_of_month</th><th>last_of_month</th><th>is_leap_year</th><th>is_weekend</th></tr></thead><tbody><tr><td>20210805</td><td>2021-08-05</td><td>2021</td><td>3</td><td>8</td><td>31</td><td>5</td><td>5</td><td>Thursday</td><td>August</td><td>2021-01-01</td><td>2021-12-31</td><td>2021-07-01</td><td>2021-09-30</td><td>2021-08-01</td><td>2021-08-31</td><td>false</td><td>false</td></tr><tr><td>20210817</td><td>2021-08-17</td><td>2021</td><td>3</td><td>8</td><td>33</td><td>17</td><td>3</td><td>Tuesday</td><td>August</td><td>2021-01-01</td><td>2021-12-31</td><td>2021-07-01</td><td>2021-09-30</td><td>2021-08-01</td><td>2021-08-31</td><td>false</td><td>false</td></tr><tr><td>20210802</td><td>2021-08-02</td><td>2021</td><td>3</td><td>8</td><td>31</td><td>2</td><td>2</td><td>Monday</td><td>August</td><td>2021-01-01</td><td>2021-12-31</td><td>2021-07-01</td><td>2021-09-30</td><td>2021-08-01</td><td>2021-08-31</td><td>false</td><td>false</td></tr><tr><td>20210816</td><td>2021-08-16</td><td>2021</td><td>3</td><td>8</td><td>33</td><td>16</td><td>2</td><td>Monday</td><td>August</td><td>2021-01-01</td><td>2021-12-31</td><td>2021-07-01</td><td>2021-09-30</td><td>2021-08-01</td><td>2021-08-31</td><td>false</td><td>false</td></tr><tr><td>20210829</td><td>2021-08-29</td><td>2021</td><td>3</td><td>8</td><td>34</td><td>29</td><td>1</td><td>Sunday</td><td>August</td><td>2021-01-01</td><td>2021-12-31</td><td>2021-07-01</td><td>2021-09-30</td><td>2021-08-01</td><td>2021-08-31</td><td>false</td><td>true</td></tr><tr><td>20210825</td><td>2021-08-25</td><td>2021</td><td>3</td><td>8</td><td>34</td><td>25</td><td>4</td><td>Wednesday</td><td>August</td><td>2021-01-01</td><td>2021-12-31</td><td>2021-07-01</td><td>2021-09-30</td><td>2021-08-01</td><td>2021-08-31</td><td>false</td><td>false</td></tr><tr><td>20210822</td><td>2021-08-22</td><td>2021</td><td>3</td><td>8</td><td>33</td><td>22</td><td>1</td><td>Sunday</td><td>August</td><td>2021-01-01</td><td>2021-12-31</td><td>2021-07-01</td><td>2021-09-30</td><td>2021-08-01</td><td>2021-08-31</td><td>false</td><td>true</td></tr><tr><td>20210814</td><td>2021-08-14</td><td>2021</td><td>3</td><td>8</td><td>32</td><td>14</td><td>7</td><td>Saturday</td><td>August</td><td>2021-01-01</td><td>2021-12-31</td><td>2021-07-01</td><td>2021-09-30</td><td>2021-08-01</td><td>2021-08-31</td><td>false</td><td>true</td></tr><tr><td>20210813</td><td>2021-08-13</td><td>2021</td><td>3</td><td>8</td><td>32</td><td>13</td><td>6</td><td>Friday</td><td>August</td><td>2021-01-01</td><td>2021-12-31</td><td>2021-07-01</td><td>2021-09-30</td><td>2021-08-01</td><td>2021-08-31</td><td>false</td><td>false</td></tr><tr><td>20210811</td><td>2021-08-11</td><td>2021</td><td>3</td><td>8</td><td>32</td><td>11</td><td>4</td><td>Wednesday</td><td>August</td><td>2021-01-01</td><td>2021-12-31</td><td>2021-07-01</td><td>2021-09-30</td><td>2021-08-01</td><td>2021-08-31</td><td>false</td><td>false</td></tr></tbody></table></div>"
      ]
     },
     "metadata": {
      "application/vnd.databricks.v1+output": {
       "addedWidgets": {},
       "aggData": [],
       "aggError": "",
       "aggOverflow": false,
       "aggSchema": [],
       "aggSeriesLimitReached": false,
       "aggType": "",
       "arguments": {},
       "columnCustomDisplayInfos": {},
       "data": [
        [
         "20210805",
         "2021-08-05",
         2021,
         3,
         8,
         31,
         5,
         5,
         "Thursday",
         "August",
         "2021-01-01",
         "2021-12-31",
         "2021-07-01",
         "2021-09-30",
         "2021-08-01",
         "2021-08-31",
         false,
         false
        ],
        [
         "20210817",
         "2021-08-17",
         2021,
         3,
         8,
         33,
         17,
         3,
         "Tuesday",
         "August",
         "2021-01-01",
         "2021-12-31",
         "2021-07-01",
         "2021-09-30",
         "2021-08-01",
         "2021-08-31",
         false,
         false
        ],
        [
         "20210802",
         "2021-08-02",
         2021,
         3,
         8,
         31,
         2,
         2,
         "Monday",
         "August",
         "2021-01-01",
         "2021-12-31",
         "2021-07-01",
         "2021-09-30",
         "2021-08-01",
         "2021-08-31",
         false,
         false
        ],
        [
         "20210816",
         "2021-08-16",
         2021,
         3,
         8,
         33,
         16,
         2,
         "Monday",
         "August",
         "2021-01-01",
         "2021-12-31",
         "2021-07-01",
         "2021-09-30",
         "2021-08-01",
         "2021-08-31",
         false,
         false
        ],
        [
         "20210829",
         "2021-08-29",
         2021,
         3,
         8,
         34,
         29,
         1,
         "Sunday",
         "August",
         "2021-01-01",
         "2021-12-31",
         "2021-07-01",
         "2021-09-30",
         "2021-08-01",
         "2021-08-31",
         false,
         true
        ],
        [
         "20210825",
         "2021-08-25",
         2021,
         3,
         8,
         34,
         25,
         4,
         "Wednesday",
         "August",
         "2021-01-01",
         "2021-12-31",
         "2021-07-01",
         "2021-09-30",
         "2021-08-01",
         "2021-08-31",
         false,
         false
        ],
        [
         "20210822",
         "2021-08-22",
         2021,
         3,
         8,
         33,
         22,
         1,
         "Sunday",
         "August",
         "2021-01-01",
         "2021-12-31",
         "2021-07-01",
         "2021-09-30",
         "2021-08-01",
         "2021-08-31",
         false,
         true
        ],
        [
         "20210814",
         "2021-08-14",
         2021,
         3,
         8,
         32,
         14,
         7,
         "Saturday",
         "August",
         "2021-01-01",
         "2021-12-31",
         "2021-07-01",
         "2021-09-30",
         "2021-08-01",
         "2021-08-31",
         false,
         true
        ],
        [
         "20210813",
         "2021-08-13",
         2021,
         3,
         8,
         32,
         13,
         6,
         "Friday",
         "August",
         "2021-01-01",
         "2021-12-31",
         "2021-07-01",
         "2021-09-30",
         "2021-08-01",
         "2021-08-31",
         false,
         false
        ],
        [
         "20210811",
         "2021-08-11",
         2021,
         3,
         8,
         32,
         11,
         4,
         "Wednesday",
         "August",
         "2021-01-01",
         "2021-12-31",
         "2021-07-01",
         "2021-09-30",
         "2021-08-01",
         "2021-08-31",
         false,
         false
        ]
       ],
       "datasetInfos": [],
       "dbfsResultPath": null,
       "isJsonSchema": true,
       "metadata": {},
       "overflow": false,
       "plotOptions": {
        "customPlotOptions": {},
        "displayType": "table",
        "pivotAggregation": null,
        "pivotColumns": null,
        "xColumns": null,
        "yColumns": null
       },
       "removedWidgets": [],
       "schema": [
        {
         "metadata": "{}",
         "name": "date_string",
         "type": "\"string\""
        },
        {
         "metadata": "{}",
         "name": "date",
         "type": "\"date\""
        },
        {
         "metadata": "{}",
         "name": "year",
         "type": "\"integer\""
        },
        {
         "metadata": "{}",
         "name": "quarter",
         "type": "\"integer\""
        },
        {
         "metadata": "{}",
         "name": "month",
         "type": "\"integer\""
        },
        {
         "metadata": "{}",
         "name": "week",
         "type": "\"integer\""
        },
        {
         "metadata": "{}",
         "name": "day",
         "type": "\"integer\""
        },
        {
         "metadata": "{}",
         "name": "weekday",
         "type": "\"integer\""
        },
        {
         "metadata": "{}",
         "name": "weekday_name",
         "type": "\"string\""
        },
        {
         "metadata": "{}",
         "name": "month_name",
         "type": "\"string\""
        },
        {
         "metadata": "{}",
         "name": "first_of_year",
         "type": "\"date\""
        },
        {
         "metadata": "{}",
         "name": "last_of_year",
         "type": "\"date\""
        },
        {
         "metadata": "{}",
         "name": "first_of_quarter",
         "type": "\"date\""
        },
        {
         "metadata": "{}",
         "name": "last_of_quarter",
         "type": "\"date\""
        },
        {
         "metadata": "{}",
         "name": "first_of_month",
         "type": "\"date\""
        },
        {
         "metadata": "{}",
         "name": "last_of_month",
         "type": "\"date\""
        },
        {
         "metadata": "{}",
         "name": "is_leap_year",
         "type": "\"boolean\""
        },
        {
         "metadata": "{}",
         "name": "is_weekend",
         "type": "\"boolean\""
        }
       ],
       "type": "table"
      }
     },
     "output_type": "display_data"
    }
   ],
   "source": [
    "with open('sql/dim_date.sql', 'r') as f:\n",
    "    gold_dim_date = spark.sql(f.read())\n",
    "\n",
    "display(gold_dim_date.limit(10))"
   ]
  },
  {
   "cell_type": "markdown",
   "metadata": {
    "application/vnd.databricks.v1+cell": {
     "cellMetadata": {
      "byteLimit": 2048000,
      "rowLimit": 10000
     },
     "inputWidgets": {},
     "nuid": "cc5d808e-3ec4-4345-b49c-c5ee207df2b3",
     "showTitle": false,
     "tableResultSettingsMap": {},
     "title": ""
    }
   },
   "source": [
    "### Fact Payment"
   ]
  },
  {
   "cell_type": "code",
   "execution_count": 0,
   "metadata": {
    "application/vnd.databricks.v1+cell": {
     "cellMetadata": {
      "byteLimit": 2048000,
      "rowLimit": 10000
     },
     "inputWidgets": {},
     "nuid": "e596565b-c5ad-4fa1-a674-60c5ce42763f",
     "showTitle": false,
     "tableResultSettingsMap": {},
     "title": ""
    }
   },
   "outputs": [
    {
     "output_type": "stream",
     "name": "stdout",
     "output_type": "stream",
     "text": [
      "Overwriting sql/fact_payment.sql\n"
     ]
    }
   ],
   "source": [
    "%%file sql/fact_payment.sql\n",
    "\n",
    "SELECT \n",
    "    payment_id,\n",
    "    to_char(date, 'yyyyMMdd') as payment_date,\n",
    "    rider_id,\n",
    "    amount\n",
    "FROM Bronze_Payments"
   ]
  },
  {
   "cell_type": "code",
   "execution_count": 0,
   "metadata": {
    "application/vnd.databricks.v1+cell": {
     "cellMetadata": {
      "byteLimit": 2048000,
      "rowLimit": 10000
     },
     "inputWidgets": {},
     "nuid": "bcf25461-e51d-4b38-93ea-c3f91fc143e8",
     "showTitle": false,
     "tableResultSettingsMap": {},
     "title": ""
    }
   },
   "outputs": [
    {
     "output_type": "display_data",
     "data": {
      "text/html": [
       "<style scoped>\n",
       "  .table-result-container {\n",
       "    max-height: 300px;\n",
       "    overflow: auto;\n",
       "  }\n",
       "  table, th, td {\n",
       "    border: 1px solid black;\n",
       "    border-collapse: collapse;\n",
       "  }\n",
       "  th, td {\n",
       "    padding: 5px;\n",
       "  }\n",
       "  th {\n",
       "    text-align: left;\n",
       "  }\n",
       "</style><div class='table-result-container'><table class='table-result'><thead style='background-color: white'><tr><th>payment_id</th><th>payment_date</th><th>rider_id</th><th>amount</th></tr></thead><tbody><tr><td>1</td><td>20190501</td><td>1000</td><td>9.0</td></tr><tr><td>2</td><td>20190601</td><td>1000</td><td>9.0</td></tr><tr><td>3</td><td>20190701</td><td>1000</td><td>9.0</td></tr><tr><td>4</td><td>20190801</td><td>1000</td><td>9.0</td></tr><tr><td>5</td><td>20190901</td><td>1000</td><td>9.0</td></tr><tr><td>6</td><td>20191001</td><td>1000</td><td>9.0</td></tr><tr><td>7</td><td>20191101</td><td>1000</td><td>9.0</td></tr><tr><td>8</td><td>20191201</td><td>1000</td><td>9.0</td></tr><tr><td>9</td><td>20200101</td><td>1000</td><td>9.0</td></tr><tr><td>10</td><td>20200201</td><td>1000</td><td>9.0</td></tr></tbody></table></div>"
      ]
     },
     "metadata": {
      "application/vnd.databricks.v1+output": {
       "addedWidgets": {},
       "aggData": [],
       "aggError": "",
       "aggOverflow": false,
       "aggSchema": [],
       "aggSeriesLimitReached": false,
       "aggType": "",
       "arguments": {},
       "columnCustomDisplayInfos": {},
       "data": [
        [
         1,
         "20190501",
         1000,
         9.0
        ],
        [
         2,
         "20190601",
         1000,
         9.0
        ],
        [
         3,
         "20190701",
         1000,
         9.0
        ],
        [
         4,
         "20190801",
         1000,
         9.0
        ],
        [
         5,
         "20190901",
         1000,
         9.0
        ],
        [
         6,
         "20191001",
         1000,
         9.0
        ],
        [
         7,
         "20191101",
         1000,
         9.0
        ],
        [
         8,
         "20191201",
         1000,
         9.0
        ],
        [
         9,
         "20200101",
         1000,
         9.0
        ],
        [
         10,
         "20200201",
         1000,
         9.0
        ]
       ],
       "datasetInfos": [],
       "dbfsResultPath": null,
       "isJsonSchema": true,
       "metadata": {},
       "overflow": false,
       "plotOptions": {
        "customPlotOptions": {},
        "displayType": "table",
        "pivotAggregation": null,
        "pivotColumns": null,
        "xColumns": null,
        "yColumns": null
       },
       "removedWidgets": [],
       "schema": [
        {
         "metadata": "{}",
         "name": "payment_id",
         "type": "\"integer\""
        },
        {
         "metadata": "{}",
         "name": "payment_date",
         "type": "\"string\""
        },
        {
         "metadata": "{}",
         "name": "rider_id",
         "type": "\"integer\""
        },
        {
         "metadata": "{}",
         "name": "amount",
         "type": "\"double\""
        }
       ],
       "type": "table"
      }
     },
     "output_type": "display_data"
    }
   ],
   "source": [
    "with open('sql/fact_payment.sql', 'r') as f:\n",
    "    gold_fact_payment = spark.sql(f.read())\n",
    "\n",
    "display(gold_fact_payment.limit(10))"
   ]
  },
  {
   "cell_type": "markdown",
   "metadata": {
    "application/vnd.databricks.v1+cell": {
     "cellMetadata": {
      "byteLimit": 2048000,
      "rowLimit": 10000
     },
     "inputWidgets": {},
     "nuid": "ec7a5199-f693-47b4-9556-0c3220da501c",
     "showTitle": false,
     "tableResultSettingsMap": {},
     "title": ""
    }
   },
   "source": [
    "### Fact Trip"
   ]
  },
  {
   "cell_type": "code",
   "execution_count": 0,
   "metadata": {
    "application/vnd.databricks.v1+cell": {
     "cellMetadata": {
      "byteLimit": 2048000,
      "rowLimit": 10000
     },
     "inputWidgets": {},
     "nuid": "2bc37802-6d60-4702-8ef7-7b01c254f939",
     "showTitle": false,
     "tableResultSettingsMap": {},
     "title": ""
    }
   },
   "outputs": [
    {
     "output_type": "stream",
     "name": "stdout",
     "output_type": "stream",
     "text": [
      "Overwriting sql/fact_trip.sql\n"
     ]
    }
   ],
   "source": [
    "%%file sql/fact_trip.sql\n",
    "\n",
    "SELECT\n",
    "    bt.trip_id,\n",
    "    br.rider_id,\n",
    "    bt.start_station_id,\n",
    "    bt.end_station_id,\n",
    "    date_format(bt.start_at, 'yyyyMMdd') AS start_date,\n",
    "    date_format(bt.ended_at, 'yyyyMMdd') AS end_date,\n",
    "    date_format(bt.start_at, 'HHmmss') AS start_time,\n",
    "    date_format(bt.ended_at, 'HHmmss') AS end_time,\n",
    "    bt.rideable_type,\n",
    "    (unix_timestamp(bt.ended_at) - unix_timestamp(bt.start_at)) AS trip_duration_seconds,\n",
    "    floor(months_between(bt.ended_at, br.birthday) / 12) AS rider_age\n",
    "FROM Bronze_Trips bt\n",
    "JOIN Bronze_Riders br\n",
    "    ON bt.rider_id = br.rider_id\n"
   ]
  },
  {
   "cell_type": "code",
   "execution_count": 0,
   "metadata": {
    "application/vnd.databricks.v1+cell": {
     "cellMetadata": {
      "byteLimit": 2048000,
      "rowLimit": 10000
     },
     "inputWidgets": {},
     "nuid": "ed2c5540-d906-4631-86c7-02ea117cecff",
     "showTitle": false,
     "tableResultSettingsMap": {},
     "title": ""
    }
   },
   "outputs": [
    {
     "output_type": "display_data",
     "data": {
      "text/html": [
       "<style scoped>\n",
       "  .table-result-container {\n",
       "    max-height: 300px;\n",
       "    overflow: auto;\n",
       "  }\n",
       "  table, th, td {\n",
       "    border: 1px solid black;\n",
       "    border-collapse: collapse;\n",
       "  }\n",
       "  th, td {\n",
       "    padding: 5px;\n",
       "  }\n",
       "  th {\n",
       "    text-align: left;\n",
       "  }\n",
       "</style><div class='table-result-container'><table class='table-result'><thead style='background-color: white'><tr><th>trip_id</th><th>rider_id</th><th>start_station_id</th><th>end_station_id</th><th>start_date</th><th>end_date</th><th>start_time</th><th>end_time</th><th>rideable_type</th><th>trip_duration_seconds</th><th>rider_age</th></tr></thead><tbody><tr><td>0A7C219369D5AC4E</td><td>2114</td><td>KA1504000135</td><td>13059</td><td>20210825</td><td>20210825</td><td>164701</td><td>170312</td><td>classic_bike</td><td>971</td><td>24</td></tr><tr><td>867139A6860A767C</td><td>12944</td><td>657</td><td>13059</td><td>20210811</td><td>20210811</td><td>171557</td><td>173717</td><td>classic_bike</td><td>1280</td><td>30</td></tr><tr><td>FBFD35388445808B</td><td>43921</td><td>KA1504000135</td><td>TA1309000033</td><td>20210829</td><td>20210829</td><td>142027</td><td>143608</td><td>classic_bike</td><td>941</td><td>31</td></tr><tr><td>CDBA93066763B385</td><td>66653</td><td>13258</td><td>15653</td><td>20210822</td><td>20210822</td><td>151519</td><td>151821</td><td>classic_bike</td><td>182</td><td>23</td></tr><tr><td>34DED391233DBA3F</td><td>57338</td><td>TA1305000022</td><td>13271</td><td>20210805</td><td>20210805</td><td>123410</td><td>130110</td><td>electric_bike</td><td>1620</td><td>33</td></tr><tr><td>FB6800A9EC72C76D</td><td>26184</td><td>TA1309000029</td><td>13059</td><td>20210816</td><td>20210816</td><td>180227</td><td>181658</td><td>classic_bike</td><td>871</td><td>30</td></tr><tr><td>0CD8B45F2E01F618</td><td>18172</td><td>13071</td><td>TA1308000022</td><td>20210813</td><td>20210813</td><td>233213</td><td>234046</td><td>electric_bike</td><td>513</td><td>19</td></tr><tr><td>25F1F10082E41B5D</td><td>22308</td><td>13241</td><td>15643</td><td>20210813</td><td>20210813</td><td>224305</td><td>230514</td><td>classic_bike</td><td>1329</td><td>40</td></tr><tr><td>F91AD8B87273DA38</td><td>38213</td><td>TA1307000128</td><td>13059</td><td>20210814</td><td>20210814</td><td>131748</td><td>134434</td><td>classic_bike</td><td>1606</td><td>48</td></tr><tr><td>970B5A8879A1481F</td><td>24490</td><td>TA1307000163</td><td>13059</td><td>20210802</td><td>20210802</td><td>222102</td><td>222502</td><td>classic_bike</td><td>240</td><td>25</td></tr></tbody></table></div>"
      ]
     },
     "metadata": {
      "application/vnd.databricks.v1+output": {
       "addedWidgets": {},
       "aggData": [],
       "aggError": "",
       "aggOverflow": false,
       "aggSchema": [],
       "aggSeriesLimitReached": false,
       "aggType": "",
       "arguments": {},
       "columnCustomDisplayInfos": {},
       "data": [
        [
         "0A7C219369D5AC4E",
         2114,
         "KA1504000135",
         "13059",
         "20210825",
         "20210825",
         "164701",
         "170312",
         "classic_bike",
         971,
         24
        ],
        [
         "867139A6860A767C",
         12944,
         "657",
         "13059",
         "20210811",
         "20210811",
         "171557",
         "173717",
         "classic_bike",
         1280,
         30
        ],
        [
         "FBFD35388445808B",
         43921,
         "KA1504000135",
         "TA1309000033",
         "20210829",
         "20210829",
         "142027",
         "143608",
         "classic_bike",
         941,
         31
        ],
        [
         "CDBA93066763B385",
         66653,
         "13258",
         "15653",
         "20210822",
         "20210822",
         "151519",
         "151821",
         "classic_bike",
         182,
         23
        ],
        [
         "34DED391233DBA3F",
         57338,
         "TA1305000022",
         "13271",
         "20210805",
         "20210805",
         "123410",
         "130110",
         "electric_bike",
         1620,
         33
        ],
        [
         "FB6800A9EC72C76D",
         26184,
         "TA1309000029",
         "13059",
         "20210816",
         "20210816",
         "180227",
         "181658",
         "classic_bike",
         871,
         30
        ],
        [
         "0CD8B45F2E01F618",
         18172,
         "13071",
         "TA1308000022",
         "20210813",
         "20210813",
         "233213",
         "234046",
         "electric_bike",
         513,
         19
        ],
        [
         "25F1F10082E41B5D",
         22308,
         "13241",
         "15643",
         "20210813",
         "20210813",
         "224305",
         "230514",
         "classic_bike",
         1329,
         40
        ],
        [
         "F91AD8B87273DA38",
         38213,
         "TA1307000128",
         "13059",
         "20210814",
         "20210814",
         "131748",
         "134434",
         "classic_bike",
         1606,
         48
        ],
        [
         "970B5A8879A1481F",
         24490,
         "TA1307000163",
         "13059",
         "20210802",
         "20210802",
         "222102",
         "222502",
         "classic_bike",
         240,
         25
        ]
       ],
       "datasetInfos": [],
       "dbfsResultPath": null,
       "isJsonSchema": true,
       "metadata": {},
       "overflow": false,
       "plotOptions": {
        "customPlotOptions": {},
        "displayType": "table",
        "pivotAggregation": null,
        "pivotColumns": null,
        "xColumns": null,
        "yColumns": null
       },
       "removedWidgets": [],
       "schema": [
        {
         "metadata": "{}",
         "name": "trip_id",
         "type": "\"string\""
        },
        {
         "metadata": "{}",
         "name": "rider_id",
         "type": "\"integer\""
        },
        {
         "metadata": "{}",
         "name": "start_station_id",
         "type": "\"string\""
        },
        {
         "metadata": "{}",
         "name": "end_station_id",
         "type": "\"string\""
        },
        {
         "metadata": "{}",
         "name": "start_date",
         "type": "\"string\""
        },
        {
         "metadata": "{}",
         "name": "end_date",
         "type": "\"string\""
        },
        {
         "metadata": "{}",
         "name": "start_time",
         "type": "\"string\""
        },
        {
         "metadata": "{}",
         "name": "end_time",
         "type": "\"string\""
        },
        {
         "metadata": "{}",
         "name": "rideable_type",
         "type": "\"string\""
        },
        {
         "metadata": "{}",
         "name": "trip_duration_seconds",
         "type": "\"long\""
        },
        {
         "metadata": "{}",
         "name": "rider_age",
         "type": "\"long\""
        }
       ],
       "type": "table"
      }
     },
     "output_type": "display_data"
    }
   ],
   "source": [
    "with open('sql/fact_trip.sql', 'r') as f:\n",
    "    gold_fact_trip = spark.sql(f.read())\n",
    "\n",
    "display(gold_fact_trip.limit(10))"
   ]
  },
  {
   "cell_type": "markdown",
   "metadata": {
    "application/vnd.databricks.v1+cell": {
     "cellMetadata": {
      "byteLimit": 2048000,
      "rowLimit": 10000
     },
     "inputWidgets": {},
     "nuid": "e4f4f448-9517-401f-bce2-0be15870414e",
     "showTitle": false,
     "tableResultSettingsMap": {},
     "title": ""
    }
   },
   "source": [
    "## Save the Star Schema a Delta Lake Tables"
   ]
  },
  {
   "cell_type": "code",
   "execution_count": 0,
   "metadata": {
    "application/vnd.databricks.v1+cell": {
     "cellMetadata": {
      "byteLimit": 2048000,
      "rowLimit": 10000
     },
     "inputWidgets": {},
     "nuid": "270402f9-69d7-496a-95ff-35ee6c9fee77",
     "showTitle": false,
     "tableResultSettingsMap": {},
     "title": ""
    }
   },
   "outputs": [],
   "source": [
    "gold_dim_station.write.mode(\"overwrite\").format(\"delta\").saveAsTable(\"Gold_Dim_Station\")\n",
    "gold_dim_rider.write.mode(\"overwrite\").format(\"delta\").saveAsTable(\"Gold_Dim_Rider\")\n",
    "gold_dim_time.write.mode(\"overwrite\").format(\"delta\").saveAsTable(\"Gold_Dim_Time\")\n",
    "gold_dim_date.write.mode(\"overwrite\").format(\"delta\").saveAsTable(\"Gold_Dim_Date\")\n",
    "gold_fact_payment.write.mode(\"overwrite\").format(\"delta\").saveAsTable(\"Gold_Fact_Payment\")\n",
    "gold_fact_trip.write.mode(\"overwrite\").format(\"delta\").saveAsTable(\"Gold_Fact_Trip\")"
   ]
  },
  {
   "cell_type": "code",
   "execution_count": 0,
   "metadata": {
    "application/vnd.databricks.v1+cell": {
     "cellMetadata": {
      "byteLimit": 2048000,
      "rowLimit": 10000
     },
     "inputWidgets": {},
     "nuid": "630a4f6c-cf75-44d9-b87b-8372a82cdf71",
     "showTitle": false,
     "tableResultSettingsMap": {},
     "title": ""
    }
   },
   "outputs": [],
   "source": []
  }
 ],
 "metadata": {
  "application/vnd.databricks.v1+notebook": {
   "computePreferences": null,
   "dashboards": [],
   "environmentMetadata": {
    "base_environment": "",
    "environment_version": "3"
   },
   "inputWidgetPreferences": null,
   "language": "python",
   "notebookMetadata": {
    "mostRecentlyExecutedCommandWithImplicitDF": {
     "commandId": -1,
     "dataframes": [
      "_sqldf"
     ]
    },
    "pythonIndentUnit": 4
   },
   "notebookName": "Project_3",
   "widgets": {}
  },
  "language_info": {
   "name": "python"
  }
 },
 "nbformat": 4,
 "nbformat_minor": 0
}